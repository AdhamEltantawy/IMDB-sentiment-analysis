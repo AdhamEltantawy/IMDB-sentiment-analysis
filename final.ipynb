{
 "cells": [
  {
   "cell_type": "code",
   "execution_count": 1,
   "metadata": {},
   "outputs": [],
   "source": [
    "import pandas as pd\n",
    "from pandas import DataFrame as df\n",
    "import sidetable\n",
    "import os\n",
    "import matplotlib.pyplot as plt\n",
    "import numpy as np\n",
    "from nltk.corpus import stopwords\n",
    "from nltk.tokenize import word_tokenize \n",
    "from nltk.stem import PorterStemmer \n",
    "from nltk.stem import WordNetLemmatizer\n",
    "import string"
   ]
  },
  {
   "cell_type": "code",
   "execution_count": 2,
   "metadata": {},
   "outputs": [],
   "source": [
    "from sklearn.feature_extraction.text import CountVectorizer\n",
    "from sklearn.linear_model import LinearRegression\n",
    "from sklearn.linear_model import LogisticRegression\n",
    "import pickle"
   ]
  },
  {
   "cell_type": "code",
   "execution_count": 3,
   "metadata": {},
   "outputs": [],
   "source": [
    "train = pd.read_csv('train.csv')\n",
    "test = pd.read_csv('test.csv')"
   ]
  },
  {
   "cell_type": "code",
   "execution_count": 4,
   "metadata": {},
   "outputs": [],
   "source": [
    "def remove_numbers(text):\n",
    "    for i in range(len(text)):\n",
    "        s = text[i]\n",
    "        result = ' '.join(s for s in text[i].split() if not any(c.isdigit() for c in s))\n",
    "        text[i] = result"
   ]
  },
  {
   "cell_type": "code",
   "execution_count": 5,
   "metadata": {},
   "outputs": [],
   "source": [
    "def remove_punctuation(text):\n",
    "    for i in range(len(text)):\n",
    "        table = str.maketrans('', '', string.punctuation)\n",
    "        stripped = [w.translate(table) for w in text[i].split()]\n",
    "        text[i] = \" \".join(stripped)"
   ]
  },
  {
   "cell_type": "code",
   "execution_count": 6,
   "metadata": {},
   "outputs": [],
   "source": [
    "def remove_stopwords(text):\n",
    "    stop_words = set(stopwords.words('english')) \n",
    "\n",
    "    for i in range(len(text)):\n",
    "        word_tokens = text[i].lower().split()\n",
    "        filtered_sentence = [w for w in word_tokens if not w in stop_words] \n",
    "        text[i] = \" \".join(filtered_sentence)"
   ]
  },
  {
   "cell_type": "code",
   "execution_count": 7,
   "metadata": {},
   "outputs": [],
   "source": [
    "def stemming(text):\n",
    "    ps = PorterStemmer() \n",
    "\n",
    "    for i in range(len(text)):\n",
    "        new = []\n",
    "        stext = text[i].split()\n",
    "        for w in stext:\n",
    "            new.append(ps.stem(w))\n",
    "        text[i] = \" \".join(new)"
   ]
  },
  {
   "cell_type": "code",
   "execution_count": 8,
   "metadata": {},
   "outputs": [],
   "source": [
    "def lemmatizing(text):\n",
    "    lemmatizer=WordNetLemmatizer()\n",
    "\n",
    "    for i in range(len(text)):\n",
    "        new = []\n",
    "        stext = word_tokenize(text[i])\n",
    "        for w in stext:\n",
    "            new.append(lemmatizer.lemmatize(w))\n",
    "        text[i] = \" \".join(new)"
   ]
  },
  {
   "cell_type": "code",
   "execution_count": 9,
   "metadata": {},
   "outputs": [],
   "source": [
    "def cleaning(train, test):\n",
    "    remove_punctuation(train)\n",
    "    remove_punctuation(test)\n",
    "    \n",
    "    lemmatizing(train)\n",
    "    lemmatizing(test)\n",
    "    \n",
    "    remove_numbers(train)\n",
    "    remove_numbers(test)"
   ]
  },
  {
   "cell_type": "code",
   "execution_count": 10,
   "metadata": {},
   "outputs": [],
   "source": [
    "def vectorize_train(text):\n",
    "    corpus_train = list(text)\n",
    "    vectorizer_train = CountVectorizer(analyzer='word', ngram_range=(2, 2))\n",
    "    vector_counter_train = vectorizer_train.fit_transform(corpus_train)\n",
    "    train_data = vector_counter_train\n",
    "    train_target_values = train['labels']\n",
    "    return train_data, train_target_values, vectorizer_train"
   ]
  },
  {
   "cell_type": "code",
   "execution_count": 11,
   "metadata": {},
   "outputs": [],
   "source": [
    "def vectorize_test(text, train_vector):\n",
    "    corpus_test = list(text)\n",
    "    vector_counter_test = vector_train.transform(corpus_test)\n",
    "    test_data = vector_counter_test\n",
    "    test_target_values = test['labels']\n",
    "    return test_data, test_target_values"
   ]
  },
  {
   "cell_type": "code",
   "execution_count": 49,
   "metadata": {},
   "outputs": [],
   "source": [
    "def predict(text, vector_train):\n",
    "    text = list(text)\n",
    "\n",
    "    cleaning(text, '')\n",
    "    corpus_predict = text\n",
    "    vector_counter_predict = vector_train.transform(corpus_predict)\n",
    "    filename = 'fifth_model.sav'\n",
    "    loaded_model = pickle.load(open(filename, 'rb'))\n",
    "    result = loaded_model.predict(vector_counter_predict)\n",
    "    if result == 0:\n",
    "        print(\"Negative review\")\n",
    "    elif result == 1:\n",
    "        print(\"Positive review\")"
   ]
  },
  {
   "cell_type": "code",
   "execution_count": 13,
   "metadata": {},
   "outputs": [
    {
     "name": "stderr",
     "output_type": "stream",
     "text": [
      "C:\\Users\\Hp\\Anaconda3\\lib\\site-packages\\ipykernel_launcher.py:5: SettingWithCopyWarning: \n",
      "A value is trying to be set on a copy of a slice from a DataFrame\n",
      "\n",
      "See the caveats in the documentation: https://pandas.pydata.org/pandas-docs/stable/user_guide/indexing.html#returning-a-view-versus-a-copy\n",
      "  \"\"\"\n",
      "C:\\Users\\Hp\\Anaconda3\\lib\\site-packages\\ipykernel_launcher.py:9: SettingWithCopyWarning: \n",
      "A value is trying to be set on a copy of a slice from a DataFrame\n",
      "\n",
      "See the caveats in the documentation: https://pandas.pydata.org/pandas-docs/stable/user_guide/indexing.html#returning-a-view-versus-a-copy\n",
      "  if __name__ == '__main__':\n"
     ]
    }
   ],
   "source": [
    "cleaning(train['text'], test['text'])"
   ]
  },
  {
   "cell_type": "code",
   "execution_count": 14,
   "metadata": {},
   "outputs": [],
   "source": [
    "train_data, train_target_values, vector_train = vectorize_train(train['text'])\n",
    "test_data, test_target_values = vectorize_test(test['text'], vector_train)"
   ]
  },
  {
   "cell_type": "code",
   "execution_count": 15,
   "metadata": {},
   "outputs": [],
   "source": [
    "clf = LogisticRegression(max_iter=500).fit(train_data, train_target_values)\n",
    "filename = 'fifth_model.sav'\n",
    "pickle.dump(clf, open(filename, 'wb'))"
   ]
  },
  {
   "cell_type": "code",
   "execution_count": 16,
   "metadata": {},
   "outputs": [
    {
     "data": {
      "text/plain": [
       "0.87712"
      ]
     },
     "execution_count": 16,
     "metadata": {},
     "output_type": "execute_result"
    }
   ],
   "source": [
    "loaded_model = pickle.load(open('fifth_model.sav', 'rb'))\n",
    "result = loaded_model.score(test_data, test_target_values)\n",
    "result"
   ]
  },
  {
   "cell_type": "code",
   "execution_count": 53,
   "metadata": {},
   "outputs": [
    {
     "name": "stdout",
     "output_type": "stream",
     "text": [
      "Positive review\n"
     ]
    }
   ],
   "source": [
    "predict([\"this product is absolutely amazing i tried a lot of products for my acne problem but non of which came with an effective results like this one\"], vector_train)"
   ]
  },
  {
   "cell_type": "code",
   "execution_count": 54,
   "metadata": {},
   "outputs": [
    {
     "name": "stdout",
     "output_type": "stream",
     "text": [
      "Note: you may need to restart the kernel to use updated packages.\n"
     ]
    }
   ],
   "source": [
    "pip freeze > requirements.txt"
   ]
  },
  {
   "cell_type": "code",
   "execution_count": null,
   "metadata": {},
   "outputs": [],
   "source": []
  }
 ],
 "metadata": {
  "kernelspec": {
   "display_name": "Python 3",
   "language": "python",
   "name": "python3"
  },
  "language_info": {
   "codemirror_mode": {
    "name": "ipython",
    "version": 3
   },
   "file_extension": ".py",
   "mimetype": "text/x-python",
   "name": "python",
   "nbconvert_exporter": "python",
   "pygments_lexer": "ipython3",
   "version": "3.7.6"
  }
 },
 "nbformat": 4,
 "nbformat_minor": 4
}
